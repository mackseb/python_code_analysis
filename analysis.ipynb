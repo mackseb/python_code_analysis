{
 "cells": [
  {
   "cell_type": "code",
   "execution_count": null,
   "metadata": {},
   "outputs": [],
   "source": [
    "import pandas as pd\n",
    "import json\n",
    "import os"
   ]
  },
  {
   "cell_type": "code",
   "execution_count": null,
   "metadata": {},
   "outputs": [],
   "source": [
    "component_to_analyze = \"example\"\n",
    "\n",
    "os.system(\"radon cc -j {} > radon_cc.json\".format(component_to_analyze))\n",
    "os.system(\"radon mi -j {} > radon_mi.json\".format(component_to_analyze))\n",
    "os.system(\"radon raw -j {} > radon_raw.json\".format(component_to_analyze))\n",
    "os.system(\"pylint -f json {} > pylint.json\".format(component_to_analyze))\n",
    "\n",
    "radon_cc_filename = \"radon_cc.json\"\n",
    "radon_mi_filename = \"radon_mi.json\"\n",
    "radon_raw_filename = \"radon_raw.json\"\n",
    "pylint_filename = \"pylint.json\""
   ]
  },
  {
   "cell_type": "code",
   "execution_count": null,
   "metadata": {},
   "outputs": [],
   "source": [
    "def append_component_cc(df, components_dict):\n",
    "    for key, value in components_dict.items():\n",
    "            sum_cc = 0\n",
    "            sub_parts = 0\n",
    "            for j in value:\n",
    "                sum_cc += j[\"complexity\"]\n",
    "                sub_parts += 1\n",
    "            df = df.append({'path': key,'sum_cc': sum_cc, 'sub_parts': sub_parts}, ignore_index=True)\n",
    "    return df\n",
    "            \n",
    "def create_df_cc():\n",
    "    with open(radon_cc_filename, \"r\") as f:\n",
    "        radon_cc_json = json.load(f)\n",
    "        df_cc = pd.DataFrame()\n",
    "        df_cc = append_component_cc(df_cc, radon_cc_json)\n",
    "        df_cc = df_cc.set_index('path')\n",
    "        \n",
    "        return df_cc"
   ]
  },
  {
   "cell_type": "code",
   "execution_count": null,
   "metadata": {},
   "outputs": [],
   "source": [
    "df_cc = create_df_cc()"
   ]
  },
  {
   "cell_type": "code",
   "execution_count": null,
   "metadata": {},
   "outputs": [],
   "source": [
    "df_mi = pd.read_json(radon_mi_filename, orient=\"index\")"
   ]
  },
  {
   "cell_type": "code",
   "execution_count": null,
   "metadata": {},
   "outputs": [],
   "source": [
    "df_raw = pd.read_json(radon_raw_filename, orient=\"index\")"
   ]
  },
  {
   "cell_type": "code",
   "execution_count": null,
   "metadata": {
    "scrolled": false
   },
   "outputs": [],
   "source": [
    "df_pylint = pd.read_json(pylint_filename, orient=\"columns\")\n",
    "df_pylint = df_pylint.drop(columns=['column', 'line', 'message', 'module', 'obj', 'symbol'])\n",
    "df_pylint = pd.get_dummies(df_pylint, columns=['message-id', 'type'])\n",
    "df_pylint = df_pylint.groupby(['path']).sum()"
   ]
  },
  {
   "cell_type": "code",
   "execution_count": null,
   "metadata": {},
   "outputs": [],
   "source": [
    "# Combine dataframes\n",
    "df_complete = pd.concat([df_cc, df_mi, df_raw, df_pylint], axis=1, sort=True)"
   ]
  },
  {
   "cell_type": "code",
   "execution_count": null,
   "metadata": {},
   "outputs": [],
   "source": [
    "df_complete"
   ]
  },
  {
   "cell_type": "code",
   "execution_count": null,
   "metadata": {},
   "outputs": [],
   "source": []
  }
 ],
 "metadata": {
  "kernelspec": {
   "display_name": "Python 3",
   "language": "python",
   "name": "python3"
  },
  "language_info": {
   "codemirror_mode": {
    "name": "ipython",
    "version": 3
   },
   "file_extension": ".py",
   "mimetype": "text/x-python",
   "name": "python",
   "nbconvert_exporter": "python",
   "pygments_lexer": "ipython3",
   "version": "3.6.5"
  }
 },
 "nbformat": 4,
 "nbformat_minor": 2
}
